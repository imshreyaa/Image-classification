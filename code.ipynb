{
 "cells": [
  {
   "cell_type": "code",
   "execution_count": 1,
   "metadata": {
    "colab": {},
    "colab_type": "code",
    "id": "1G_PXZrUHI2E"
   },
   "outputs": [
    {
     "name": "stderr",
     "output_type": "stream",
     "text": [
      "Using TensorFlow backend.\n",
      "WARNING: Logging before flag parsing goes to stderr.\n",
      "W0903 17:59:03.684353 140580067706624 deprecation_wrapper.py:119] From /home/shreya/anaconda3/lib/python3.7/site-packages/keras/backend/tensorflow_backend.py:74: The name tf.get_default_graph is deprecated. Please use tf.compat.v1.get_default_graph instead.\n",
      "\n",
      "W0903 17:59:03.700140 140580067706624 deprecation_wrapper.py:119] From /home/shreya/anaconda3/lib/python3.7/site-packages/keras/backend/tensorflow_backend.py:517: The name tf.placeholder is deprecated. Please use tf.compat.v1.placeholder instead.\n",
      "\n",
      "W0903 17:59:03.702080 140580067706624 deprecation_wrapper.py:119] From /home/shreya/anaconda3/lib/python3.7/site-packages/keras/backend/tensorflow_backend.py:4138: The name tf.random_uniform is deprecated. Please use tf.random.uniform instead.\n",
      "\n"
     ]
    }
   ],
   "source": [
    "# Importing the Keras libraries and packages\n",
    "from keras.models import Sequential\n",
    "from keras.layers import Conv2D\n",
    "from keras.layers import MaxPooling2D\n",
    "from keras.layers import Flatten\n",
    "from keras.layers import Dense\n",
    "\n",
    "# Initialising the CNN\n",
    "classifier = Sequential()\n",
    "\n",
    "# Step 1 - Convolution\n",
    "classifier.add(Conv2D(32, (3, 3), input_shape = (64, 64, 3), activation = 'relu'))"
   ]
  },
  {
   "cell_type": "code",
   "execution_count": 2,
   "metadata": {
    "colab": {},
    "colab_type": "code",
    "id": "iTpoD9LsHI4f"
   },
   "outputs": [
    {
     "name": "stderr",
     "output_type": "stream",
     "text": [
      "W0903 17:59:03.731718 140580067706624 deprecation_wrapper.py:119] From /home/shreya/anaconda3/lib/python3.7/site-packages/keras/backend/tensorflow_backend.py:3976: The name tf.nn.max_pool is deprecated. Please use tf.nn.max_pool2d instead.\n",
      "\n"
     ]
    }
   ],
   "source": [
    "\n",
    "classifier.add(MaxPooling2D(pool_size = (2, 2)))"
   ]
  },
  {
   "cell_type": "code",
   "execution_count": 3,
   "metadata": {
    "colab": {},
    "colab_type": "code",
    "id": "4lZxnj57HI7O"
   },
   "outputs": [],
   "source": [
    "# Step 3 - Flattening\n",
    "classifier.add(Flatten())\n",
    "\n",
    "# Step 4 - Full connection\n",
    "classifier.add(Dense(units = 128, activation = 'relu'))\n",
    "classifier.add(Dense(units = 4, activation = 'sigmoid'))"
   ]
  },
  {
   "cell_type": "code",
   "execution_count": 4,
   "metadata": {
    "colab": {},
    "colab_type": "code",
    "id": "25KAjIbDHI9j"
   },
   "outputs": [
    {
     "name": "stderr",
     "output_type": "stream",
     "text": [
      "W0903 17:59:03.943065 140580067706624 deprecation_wrapper.py:119] From /home/shreya/anaconda3/lib/python3.7/site-packages/keras/optimizers.py:790: The name tf.train.Optimizer is deprecated. Please use tf.compat.v1.train.Optimizer instead.\n",
      "\n",
      "W0903 17:59:03.987239 140580067706624 deprecation_wrapper.py:119] From /home/shreya/anaconda3/lib/python3.7/site-packages/keras/backend/tensorflow_backend.py:3376: The name tf.log is deprecated. Please use tf.math.log instead.\n",
      "\n",
      "W0903 17:59:03.992341 140580067706624 deprecation.py:323] From /home/shreya/anaconda3/lib/python3.7/site-packages/tensorflow/python/ops/nn_impl.py:180: add_dispatch_support.<locals>.wrapper (from tensorflow.python.ops.array_ops) is deprecated and will be removed in a future version.\n",
      "Instructions for updating:\n",
      "Use tf.where in 2.0, which has the same broadcast rule as np.where\n"
     ]
    }
   ],
   "source": [
    "classifier.compile(optimizer = 'adam', loss = 'binary_crossentropy', metrics = ['accuracy'])"
   ]
  },
  {
   "cell_type": "code",
   "execution_count": 5,
   "metadata": {
    "colab": {},
    "colab_type": "code",
    "id": "QCFVjjI4HI_k"
   },
   "outputs": [],
   "source": [
    "from keras.preprocessing.image import ImageDataGenerator\n",
    "\n",
    "train_datagen = ImageDataGenerator(rescale = 1./255,\n",
    "                                   shear_range = 0.2,\n",
    "                                   zoom_range = 0.2,\n",
    "                                   horizontal_flip = True)"
   ]
  },
  {
   "cell_type": "code",
   "execution_count": null,
   "metadata": {
    "colab": {
     "base_uri": "https://localhost:8080/",
     "height": 34
    },
    "colab_type": "code",
    "id": "Zo-bGkThHqjf",
    "outputId": "3a755a5b-e2e7-4c9b-d9b2-0a807e7b1847"
   },
   "outputs": [],
   "source": []
  },
  {
   "cell_type": "code",
   "execution_count": null,
   "metadata": {
    "colab": {
     "base_uri": "https://localhost:8080/",
     "height": 1000
    },
    "colab_type": "code",
    "id": "3qls6T4RHtVj",
    "outputId": "c430a7a5-c038-4625-9fab-db58debac027"
   },
   "outputs": [],
   "source": []
  },
  {
   "cell_type": "code",
   "execution_count": 6,
   "metadata": {
    "colab": {
     "base_uri": "https://localhost:8080/",
     "height": 34
    },
    "colab_type": "code",
    "id": "YSKX7UQ8H33R",
    "outputId": "57faa25e-8e3c-4cf1-a71b-3e88eaa2f743"
   },
   "outputs": [
    {
     "name": "stdout",
     "output_type": "stream",
     "text": [
      "Found 440 images belonging to 4 classes.\n"
     ]
    }
   ],
   "source": [
    "training_set = train_datagen.flow_from_directory('/home/shreya/Desktop/Image_2/Image_2/Input/Dataset/train',\n",
    "                                                 target_size = (64, 64),\n",
    "                                                 batch_size = 32,\n",
    "                                                 class_mode = 'categorical')"
   ]
  },
  {
   "cell_type": "code",
   "execution_count": 7,
   "metadata": {
    "colab": {
     "base_uri": "https://localhost:8080/",
     "height": 204
    },
    "colab_type": "code",
    "id": "9Cbv2W1kIaWf",
    "outputId": "724aa46e-d52a-4334-9404-8923503ccc06"
   },
   "outputs": [
    {
     "name": "stderr",
     "output_type": "stream",
     "text": [
      "W0903 17:59:07.440553 140580067706624 deprecation_wrapper.py:119] From /home/shreya/anaconda3/lib/python3.7/site-packages/keras/backend/tensorflow_backend.py:986: The name tf.assign_add is deprecated. Please use tf.compat.v1.assign_add instead.\n",
      "\n"
     ]
    },
    {
     "name": "stdout",
     "output_type": "stream",
     "text": [
      "Epoch 1/5\n",
      "100/100 [==============================] - 31s 310ms/step - loss: 0.1943 - acc: 0.9212\n",
      "Epoch 2/5\n",
      "100/100 [==============================] - 32s 316ms/step - loss: 0.0348 - acc: 0.9902\n",
      "Epoch 3/5\n",
      "100/100 [==============================] - 29s 286ms/step - loss: 0.0127 - acc: 0.9969\n",
      "Epoch 4/5\n",
      "100/100 [==============================] - 29s 286ms/step - loss: 0.0058 - acc: 0.9993\n",
      "Epoch 5/5\n",
      "100/100 [==============================] - 29s 286ms/step - loss: 0.0071 - acc: 0.9982\n"
     ]
    },
    {
     "data": {
      "text/plain": [
       "<keras.callbacks.History at 0x7fdb10b5e320>"
      ]
     },
     "execution_count": 7,
     "metadata": {},
     "output_type": "execute_result"
    }
   ],
   "source": [
    "classifier.fit_generator(training_set,\n",
    "                         steps_per_epoch = 100,\n",
    "                         epochs = 5,\n",
    "                         validation_steps = 10)"
   ]
  },
  {
   "cell_type": "code",
   "execution_count": null,
   "metadata": {
    "colab": {
     "base_uri": "https://localhost:8080/",
     "height": 459
    },
    "colab_type": "code",
    "id": "7qJhqhPhJx3g",
    "outputId": "d4b347f4-5fd9-467b-fc51-b034d479f184"
   },
   "outputs": [],
   "source": [
    "df = []\n",
    "import numpy as np\n",
    "from keras.preprocessing import image\n",
    "import os\n",
    "test = \"/home/shreya/Desktop/Image_2/Image_2/Input/Dataset/test/\"\n",
    "for i in os.listdir(test):\n",
    "    i = test + i\n",
    "    if i.endswith('.png'):\n",
    "        test_image = image.load_img(i, target_size = (64, 64))\n",
    "        test_image = image.img_to_array(test_image)\n",
    "        test_image = np.expand_dims(test_image, axis = 0)\n",
    "        result = classifier.predict(test_image)\n",
    "        if result[0][0] == 1:\n",
    "            prediction = \"Category 1\"\n",
    "        if result[0][1] == 1:\n",
    "            prediction = \"Category 2\"\n",
    "        if result[0][2] == 1:\n",
    "            prediction = \"Category 3\"\n",
    "        if result[0][3] == 1:\n",
    "            prediction = \"Category 4\"\n",
    "        li = [prediction,i]\n",
    "        df.append(li)"
   ]
  },
  {
   "cell_type": "code",
   "execution_count": null,
   "metadata": {},
   "outputs": [],
   "source": [
    "df = pd.DataFrame(df, columns=[\"colummn\",\"file\"])\n",
    "df.to_csv('list.csv', index=False)"
   ]
  },
  {
   "cell_type": "code",
   "execution_count": null,
   "metadata": {
    "colab": {},
    "colab_type": "code",
    "id": "FWBlwqyvLV_o"
   },
   "outputs": [],
   "source": []
  },
  {
   "cell_type": "code",
   "execution_count": 65,
   "metadata": {
    "colab": {
     "base_uri": "https://localhost:8080/",
     "height": 34
    },
    "colab_type": "code",
    "id": "LbVmlASULWDA",
    "outputId": "8cc32c00-5d0d-4f82-cbc4-442a96b5b3be"
   },
   "outputs": [
    {
     "data": {
      "text/plain": [
       "array([[0., 0., 0., 1.]], dtype=float32)"
      ]
     },
     "execution_count": 65,
     "metadata": {
      "tags": []
     },
     "output_type": "execute_result"
    }
   ],
   "source": [
    "print(result)"
   ]
  },
  {
   "cell_type": "code",
   "execution_count": 0,
   "metadata": {
    "colab": {},
    "colab_type": "code",
    "id": "tT0LzUalLWGi"
   },
   "outputs": [],
   "source": []
  },
  {
   "cell_type": "code",
   "execution_count": 70,
   "metadata": {
    "colab": {
     "base_uri": "https://localhost:8080/",
     "height": 34
    },
    "colab_type": "code",
    "id": "PUyA5IyBMJ0l",
    "outputId": "43234367-9605-4282-de92-3aca2a4cc3ff"
   },
   "outputs": [
    {
     "name": "stdout",
     "output_type": "stream",
     "text": [
      "Category 4\n"
     ]
    }
   ],
   "source": [
    "print()"
   ]
  },
  {
   "cell_type": "code",
   "execution_count": 87,
   "metadata": {
    "colab": {
     "base_uri": "https://localhost:8080/",
     "height": 544
    },
    "colab_type": "code",
    "id": "E2jj-Yp3M7UZ",
    "outputId": "454f2aa0-154f-4ceb-a710-186300456f88"
   },
   "outputs": [
    {
     "name": "stdout",
     "output_type": "stream",
     "text": [
      "Image_2/Image_2/Input/Dataset/testTest_original_4043.png_615f9058-5c5c-4430-9f11-debd66f8a19a.png\n",
      "Image_2/Image_2/Input/Dataset/testTest_original_C052.png_5c226e55-09ba-4fd0-bf6b-e0d2b411baa3.png\n",
      "Image_2/Image_2/Input/Dataset/test6052.png\n",
      "Image_2/Image_2/Input/Dataset/testTest_original_4052.png_78b7cca7-2a16-4f3c-829d-e4937b5f2dc2.png\n",
      "Image_2/Image_2/Input/Dataset/test1051.png\n",
      "Image_2/Image_2/Input/Dataset/test.DS_Store\n",
      "Image_2/Image_2/Input/Dataset/testTest_original_4052.png_209d62b3-92ce-4e4d-8006-cf63a40088a4.png\n",
      "Image_2/Image_2/Input/Dataset/testTest_original_6052.png_25bb57e2-b542-47c3-9abb-a1f7c7179ee6.png\n",
      "Image_2/Image_2/Input/Dataset/test4052.png\n",
      "Image_2/Image_2/Input/Dataset/test4051.png\n",
      "Image_2/Image_2/Input/Dataset/testTest_original_6053.png_c34c8352-0830-4853-81ce-3ea5ecf82313.png\n",
      "Image_2/Image_2/Input/Dataset/testTest_original_6052.png_9950e35a-38c7-4388-b391-ce50bb8ea1a7.png\n",
      "Image_2/Image_2/Input/Dataset/test6053.png\n",
      "Image_2/Image_2/Input/Dataset/testTest_original_6053.png_445dbbe1-4b09-4d56-aede-ab1695664ead.png\n",
      "Image_2/Image_2/Input/Dataset/testTest_original_C053.png_84d8e7c9-490f-4579-b9a9-501a8ca02cfe.png\n",
      "Image_2/Image_2/Input/Dataset/testTest_original_6052.png_51c87ecf-ede6-4152-960f-4d56ff913d53.png\n",
      "Image_2/Image_2/Input/Dataset/testTest_original_4051.png_b90a2ba4-87c6-41e6-ad67-0e0d2e83478c.png\n",
      "Image_2/Image_2/Input/Dataset/testTest_original_6053.png_16f2063e-9590-4ae5-b7f9-7f23c8cfa654.png\n",
      "Image_2/Image_2/Input/Dataset/test1052.png\n",
      "Image_2/Image_2/Input/Dataset/testTest_original_C053.png_e7d20702-793e-4207-b174-a8042c05ac3d.png\n",
      "Image_2/Image_2/Input/Dataset/testTest_original_6053.png_62171105-bdaa-4eb5-b5e7-9b0fb7914715.png\n",
      "Image_2/Image_2/Input/Dataset/testTest_original_1051.png_271f7fb1-f0ab-4ca7-9dae-a352fd0ed8b9.png\n",
      "Image_2/Image_2/Input/Dataset/testTest_original_4043.png_fffcbc29-3aff-40c0-bdf9-2c12fa6df60b.png\n",
      "Image_2/Image_2/Input/Dataset/testTest_original_4052.png_a2ba34f8-9e8b-4b2d-ad89-612c261a9654.png\n",
      "Image_2/Image_2/Input/Dataset/test4043.png\n",
      "Image_2/Image_2/Input/Dataset/testTest_original_4052.png_31cd9a66-9edc-4445-b4bc-9b0239b342e0.png\n",
      "Image_2/Image_2/Input/Dataset/testC052.png\n",
      "Image_2/Image_2/Input/Dataset/testC053.png\n",
      "Image_2/Image_2/Input/Dataset/test4050.png\n",
      "Image_2/Image_2/Input/Dataset/testTest_original_1052.png_22a82512-5b1f-4072-a4af-9a8af40653f0.png\n",
      "Image_2/Image_2/Input/Dataset/testTest_original_1052.png_b95bc311-bae0-48a7-8b9f-d0eddf1ddf2b.png\n"
     ]
    }
   ],
   "source": [
    "import os\n",
    "\n",
    "rootdir='Image_2/Image_2/Input/Dataset/test'\n",
    "\n",
    "for file in os.listdir(rootdir):\n",
    "  print(rootdir + file)"
   ]
  },
  {
   "cell_type": "code",
   "execution_count": 0,
   "metadata": {
    "colab": {},
    "colab_type": "code",
    "id": "L9TSv2OUR1Ek"
   },
   "outputs": [],
   "source": []
  }
 ],
 "metadata": {
  "colab": {
   "name": "Untitled20.ipynb",
   "provenance": [],
   "version": "0.3.2"
  },
  "kernelspec": {
   "display_name": "Python 3",
   "language": "python",
   "name": "python3"
  },
  "language_info": {
   "codemirror_mode": {
    "name": "ipython",
    "version": 3
   },
   "file_extension": ".py",
   "mimetype": "text/x-python",
   "name": "python",
   "nbconvert_exporter": "python",
   "pygments_lexer": "ipython3",
   "version": "3.7.3"
  }
 },
 "nbformat": 4,
 "nbformat_minor": 1
}
